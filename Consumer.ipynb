{
 "cells": [
  {
   "cell_type": "code",
   "execution_count": 16,
   "id": "ee20cf7f-e3e9-458a-b130-9d1a7f470b0e",
   "metadata": {},
   "outputs": [
    {
     "name": "stdout",
     "output_type": "stream",
     "text": [
      "Requirement already satisfied: kafka-python in c:\\users\\lakshmi ayyappan\\anaconda3\\lib\\site-packages (2.0.2)\n"
     ]
    }
   ],
   "source": [
    "!pip install kafka-python"
   ]
  },
  {
   "cell_type": "code",
   "execution_count": null,
   "id": "d38fbf71-870c-407e-9eb2-cbcaf56d4b23",
   "metadata": {},
   "outputs": [
    {
     "name": "stdout",
     "output_type": "stream",
     "text": [
      "Non-JSON message received: welcome to intern \n",
      "Non-JSON message received: welcome to intern \n",
      "Received JSON message: {'message_number': 0}\n",
      "Received JSON message: {'message_number': 1}\n",
      "Received JSON message: {'message_number': 2}\n",
      "Received JSON message: {'message_number': 3}\n",
      "Received JSON message: {'message_number': 4}\n",
      "Received JSON message: {'message_number': 5}\n",
      "Received JSON message: {'message_number': 6}\n",
      "Received JSON message: {'message_number': 7}\n",
      "Received JSON message: {'message_number': 8}\n",
      "Received JSON message: {'message_number': 9}\n",
      "Received JSON message: {'message_number': 0}\n",
      "Received JSON message: {'message_number': 0}\n",
      "Received JSON message: {'message_number': 1}\n",
      "Received JSON message: {'message_number': 2}\n",
      "Received JSON message: {'message_number': 3}\n",
      "Received JSON message: {'message_number': 4}\n",
      "Received JSON message: {'message_number': 5}\n",
      "Received JSON message: {'message_number': 6}\n",
      "Received JSON message: {'message_number': 7}\n",
      "Received JSON message: {'message_number': 8}\n",
      "Received JSON message: {'message_number': 9}\n",
      "Received JSON message: {'message_number': 0}\n",
      "Received JSON message: {'message_number': 0}\n",
      "Received JSON message: {'message_number': 1}\n",
      "Received JSON message: {'message_number': 2}\n",
      "Received JSON message: {'message_number': 3}\n",
      "Received JSON message: {'message_number': 4}\n",
      "Received JSON message: {'message_number': 5}\n",
      "Received JSON message: {'message_number': 6}\n",
      "Received JSON message: {'message_number': 7}\n",
      "Received JSON message: {'message_number': 8}\n",
      "Received JSON message: {'message_number': 9}\n",
      "Received JSON message: {'message_number': 0}\n",
      "Received JSON message: {'message_number': 1}\n",
      "Received JSON message: {'message_number': 2}\n",
      "Received JSON message: {'message_number': 3}\n",
      "Received JSON message: {'message_number': 4}\n",
      "Received JSON message: {'message_number': 5}\n",
      "Received JSON message: {'message_number': 6}\n",
      "Received JSON message: {'message_number': 7}\n",
      "Received JSON message: {'message_number': 8}\n",
      "Received JSON message: {'message_number': 9}\n",
      "Non-JSON message received: hey intern\n",
      "Non-JSON message received: i am ram\n",
      "Received JSON message: 1234\n",
      "Received JSON message: 321\n",
      "Non-JSON message received: hey this intern\n",
      "Received JSON message: {'message_number': 0}\n",
      "Received JSON message: {'message_number': 1}\n",
      "Received JSON message: {'message_number': 2}\n",
      "Received JSON message: {'message_number': 3}\n",
      "Received JSON message: {'message_number': 4}\n",
      "Received JSON message: {'message_number': 5}\n",
      "Received JSON message: {'message_number': 6}\n",
      "Received JSON message: {'message_number': 7}\n",
      "Received JSON message: {'message_number': 8}\n",
      "Received JSON message: {'message_number': 9}\n"
     ]
    }
   ],
   "source": [
    "from kafka import KafkaConsumer\n",
    "import json\n",
    "\n",
    "# Initialize the Kafka consumer\n",
    "consumer = KafkaConsumer(\n",
    "    'codtech',  # Your topic name\n",
    "    bootstrap_servers=['localhost:9092'],\n",
    "    auto_offset_reset='earliest',  # Start from the earliest message\n",
    "    enable_auto_commit=True,\n",
    "    group_id='codtech_group',  # Set a group ID for this consumer\n",
    "    value_deserializer=lambda x: x.decode('utf-8') if x else None  # Just decode as UTF-8, do not assume JSON\n",
    ")\n",
    "\n",
    "try:\n",
    "    # Read and print messages from the 'codtech' topic\n",
    "    for message in consumer:\n",
    "        # Check if the message value is not empty\n",
    "        if message.value:\n",
    "            # Try to parse the message as JSON\n",
    "            try:\n",
    "                decoded_message = json.loads(message.value)\n",
    "                print(f\"Received JSON message: {decoded_message}\")\n",
    "            except json.JSONDecodeError:\n",
    "                print(f\"Non-JSON message received: {message.value}\")\n",
    "        else:\n",
    "            print(\"Received empty message, skipping...\")\n",
    "\n",
    "except KeyboardInterrupt:\n",
    "    print(\"Consumer interrupted. Shutting down gracefully...\")\n",
    "\n",
    "finally:\n",
    "    consumer.close()  # Ensure the consumer is closed properly\n"
   ]
  },
  {
   "cell_type": "code",
   "execution_count": null,
   "id": "a4422e6c-5c47-48f1-bbab-c35fd4e099c2",
   "metadata": {},
   "outputs": [],
   "source": []
  }
 ],
 "metadata": {
  "kernelspec": {
   "display_name": "Python 3 (ipykernel)",
   "language": "python",
   "name": "python3"
  },
  "language_info": {
   "codemirror_mode": {
    "name": "ipython",
    "version": 3
   },
   "file_extension": ".py",
   "mimetype": "text/x-python",
   "name": "python",
   "nbconvert_exporter": "python",
   "pygments_lexer": "ipython3",
   "version": "3.9.19"
  }
 },
 "nbformat": 4,
 "nbformat_minor": 5
}
