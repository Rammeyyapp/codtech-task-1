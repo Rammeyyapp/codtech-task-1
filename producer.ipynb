{
 "cells": [
  {
   "cell_type": "code",
   "execution_count": 3,
   "id": "a1c9e045-9808-440b-9938-62867962be8c",
   "metadata": {},
   "outputs": [
    {
     "name": "stdout",
     "output_type": "stream",
     "text": [
      "Collecting kafka-python\n",
      "  Using cached kafka_python-2.0.2-py2.py3-none-any.whl.metadata (7.8 kB)\n",
      "Using cached kafka_python-2.0.2-py2.py3-none-any.whl (246 kB)\n",
      "Installing collected packages: kafka-python\n",
      "Successfully installed kafka-python-2.0.2\n"
     ]
    }
   ],
   "source": [
    "!pip install kafka-python"
   ]
  },
  {
   "cell_type": "code",
   "execution_count": 19,
   "id": "1e82e85e-18a8-4df8-b244-662e03fd9b7f",
   "metadata": {},
   "outputs": [
    {
     "name": "stdout",
     "output_type": "stream",
     "text": [
      "Sent: {'message_number': 0}\n",
      "Sent: {'message_number': 1}\n",
      "Sent: {'message_number': 2}\n",
      "Sent: {'message_number': 3}\n",
      "Sent: {'message_number': 4}\n",
      "Sent: {'message_number': 5}\n",
      "Sent: {'message_number': 6}\n",
      "Sent: {'message_number': 7}\n",
      "Sent: {'message_number': 8}\n",
      "Sent: {'message_number': 9}\n"
     ]
    }
   ],
   "source": [
    "from kafka import KafkaProducer\n",
    "import json\n",
    "import time\n",
    "\n",
    "# Initialize the Kafka producer\n",
    "producer = KafkaProducer(\n",
    "    bootstrap_servers=['localhost:9092'],  # Adjust if your Kafka server is on a different host/port\n",
    "    value_serializer=lambda v: json.dumps(v).encode('utf-8')  # Serialize to JSON\n",
    ")\n",
    "\n",
    "# Send messages to the 'codtech' topic\n",
    "for i in range(10):\n",
    "    data = {'message_number': i}\n",
    "    producer.send('codtech', value=data)\n",
    "    print(f'Sent: {data}')\n",
    "    time.sleep(1)  # Sleep to simulate message production intervals\n",
    "\n",
    "producer.flush()  # Ensure all messages are sent\n",
    "producer.close()  # Close the producer connection\n"
   ]
  },
  {
   "cell_type": "code",
   "execution_count": 9,
   "id": "6535d622-e40f-4281-aea8-674a0167f1cb",
   "metadata": {},
   "outputs": [
    {
     "name": "stdout",
     "output_type": "stream",
     "text": [
      "Name: kafka-python\n",
      "Version: 2.0.2\n",
      "Summary: Pure Python client for Apache Kafka\n",
      "Home-page: https://github.com/dpkp/kafka-python\n",
      "Author: Dana Powers\n",
      "Author-email: dana.powers@gmail.com\n",
      "License: Apache License 2.0\n",
      "Location: C:\\Users\\LAKSHMI AYYAPPAN\\anaconda3\\Lib\\site-packages\n",
      "Requires: \n",
      "Required-by: \n"
     ]
    }
   ],
   "source": [
    "!pip show kafka-python"
   ]
  },
  {
   "cell_type": "code",
   "execution_count": 11,
   "id": "70a923d4-00e2-4dd5-8f91-48d05bdff81f",
   "metadata": {},
   "outputs": [
    {
     "name": "stdout",
     "output_type": "stream",
     "text": [
      "C:\\Users\\LAKSHMI AYYAPPAN\\anaconda3\\python.exe\n"
     ]
    }
   ],
   "source": [
    "import sys\n",
    "print(sys.executable)\n"
   ]
  },
  {
   "cell_type": "code",
   "execution_count": null,
   "id": "54a10178-ca2d-4e7a-adf8-d05fe906f4cb",
   "metadata": {},
   "outputs": [],
   "source": []
  }
 ],
 "metadata": {
  "kernelspec": {
   "display_name": "Python 3 (ipykernel)",
   "language": "python",
   "name": "python3"
  },
  "language_info": {
   "codemirror_mode": {
    "name": "ipython",
    "version": 3
   },
   "file_extension": ".py",
   "mimetype": "text/x-python",
   "name": "python",
   "nbconvert_exporter": "python",
   "pygments_lexer": "ipython3",
   "version": "3.9.19"
  }
 },
 "nbformat": 4,
 "nbformat_minor": 5
}
